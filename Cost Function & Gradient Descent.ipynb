{
 "cells": [
  {
   "cell_type": "markdown",
   "metadata": {},
   "source": [
    "<font color=teal size=6> <b> Cost Function & Gradient Descent </b> </font>"
   ]
  },
  {
   "cell_type": "code",
   "execution_count": 1,
   "metadata": {},
   "outputs": [],
   "source": [
    "#importing libraries\n",
    "import numpy as np\n",
    "import pandas as pd\n",
    "from sklearn.model_selection import train_test_split"
   ]
  },
  {
   "cell_type": "code",
   "execution_count": 2,
   "metadata": {},
   "outputs": [],
   "source": [
    "#loading data\n",
    "data = pd.read_csv('x_y_data.csv')\n",
    "\n",
    "# fetching input and ouput data\n",
    "x = data.iloc[:,0].values\n",
    "y = data.iloc[:,1].values"
   ]
  },
  {
   "cell_type": "code",
   "execution_count": 3,
   "metadata": {},
   "outputs": [],
   "source": [
    "#spliting the data\n",
    "train_x,test_x,train_y,test_y = train_test_split(x,y,test_size=0.4,random_state=0)"
   ]
  },
  {
   "cell_type": "code",
   "execution_count": 4,
   "metadata": {},
   "outputs": [
    {
     "name": "stdout",
     "output_type": "stream",
     "text": [
      "Gradient Descent:  1.327215558318538e+149\n",
      "Cost Function:  10.019442962987068\n"
     ]
    }
   ],
   "source": [
    "#Cost_function and Gradient_descent\n",
    "#initially thetas are defined by some random values\n",
    "theta_0 = 1\n",
    "theta_1 = 1\n",
    "\n",
    "def cost_func(train_x,train_y,theta_0,theta_1):\n",
    "              # n is the length of that column(train_x) representing the no. of samples\n",
    "              n = len(train_x)\n",
    "              # np.sum()- function of numpy which usually performs summation task\n",
    "              summation = np.sum(((theta_0+theta_1*train_x)-train_y)**2)\n",
    "              cost = summation / (2*n)\n",
    "\n",
    "              return cost\n",
    "\n",
    "def grad_desc(train_x,train_y,theta_0,theta_1):\n",
    "              alpha = 0.015\n",
    "              n = len(train_x)\n",
    "              \n",
    "              # Loop is just for iterations so as to decrease the value of cost function again and again   \n",
    "              for _ in range(200):\n",
    "                            hypothesis = theta_0 + (theta_1 * train_x)\n",
    "                            temp_0 = theta_0-(alpha*(1/n)*(np.sum((train_y - hypothesis))))\n",
    "                            temp_1 = theta_1-(alpha*(1/n)*(np.sum((train_y - hypothesis)*train_x)))\n",
    "                            theta_0 = temp_0\n",
    "                            theta_1 = temp_1\n",
    "                            z = cost_func(train_x,train_y,theta_0,theta_1)\n",
    "                            \n",
    "              return z\n",
    "\n",
    "print(\"Gradient Descent: \",grad_desc(train_x,train_y,theta_0,theta_1))\n",
    "print(\"Cost Function: \",cost_func(train_x,train_y,theta_0,theta_1))"
   ]
  },
  {
   "cell_type": "code",
   "execution_count": null,
   "metadata": {},
   "outputs": [],
   "source": []
  }
 ],
 "metadata": {
  "kernelspec": {
   "display_name": "Python 3",
   "language": "python",
   "name": "python3"
  },
  "language_info": {
   "codemirror_mode": {
    "name": "ipython",
    "version": 3
   },
   "file_extension": ".py",
   "mimetype": "text/x-python",
   "name": "python",
   "nbconvert_exporter": "python",
   "pygments_lexer": "ipython3",
   "version": "3.7.4"
  }
 },
 "nbformat": 4,
 "nbformat_minor": 2
}
