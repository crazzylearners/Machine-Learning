{
 "cells": [
  {
   "cell_type": "markdown",
   "metadata": {},
   "source": [
    "# k Means Clustering (from scratch)"
   ]
  },
  {
   "cell_type": "code",
   "execution_count": 1,
   "metadata": {},
   "outputs": [],
   "source": [
    "#importing useful libraries\n",
    "import pandas as pd\n",
    "import numpy as np\n",
    "import random  as rd\n",
    "import matplotlib.pyplot as plt"
   ]
  },
  {
   "cell_type": "code",
   "execution_count": 2,
   "metadata": {},
   "outputs": [],
   "source": [
    "#reading data from csv file named as 'data'\n",
    "data = pd.read_csv('clustering_data.csv')\n",
    "\n",
    "#fetching data\n",
    "x1 = data.iloc[:,0].values\n",
    "x2 = data.iloc[:,1].values"
   ]
  },
  {
   "cell_type": "code",
   "execution_count": 3,
   "metadata": {},
   "outputs": [],
   "source": [
    "#############defining functions#################\n",
    "import math\n",
    "\n",
    "def euc_dis(Centroids,X):\n",
    "              ld=[]\n",
    "              for sctr_pt in X: #the scatter point from the data X will come int the form of (x,y)\n",
    "                            l=[]\n",
    "                            for cen in Centroids:  #same as above, (a,b)\n",
    "\n",
    "                                     #calculating euclidean distace\n",
    "                                     dis = math.pow((sctr_pt[0]-Centroids[cen][0])**2+(sctr_pt[1]-Centroids[cen][1])**2,(1/2))\n",
    "                                     l.append((dis,cen,sctr_pt))\n",
    "                            sort_l = sorted(l) #distances are sorted\n",
    "                            ld.append(sort_l[0]) #the minimum distance is taken, come out to be a tuple\n",
    "              return ld\n",
    "\n",
    "def make_centroid_dic(c): #this function make a dictionary of the K centroids\n",
    "              d=[]\n",
    "              for i in range(K):\n",
    "                       d.append(i+1)\n",
    "              Centroids={}\n",
    "              for key in d: \n",
    "                  for value in c: \n",
    "                      Centroids[key] = value    #{1:[4856,128],2:}\n",
    "                      c.remove(value)    \n",
    "                      break\n",
    "         \n",
    "              return Centroids\n",
    "\n",
    "#computing new centroids\n",
    "def n_cen(Centroids,X):\n",
    "              l1=[]\n",
    "              l2=[]\n",
    "              l3=[]\n",
    "              su_m=0\n",
    "              distances = euc_dis(Centroids,X)\n",
    "\n",
    "              #classifying the points, belonging from the nearest centroids, into K diff. clusters\n",
    "              #the lists are describing the K diff. clusters.\n",
    "              for min_dis in distances:\n",
    "                            if (min_dis[1]==1):\n",
    "                                          l1.append(min_dis) #blue(1)\n",
    "                            elif(min_dis[1]==2):\n",
    "                                          l2.append(min_dis) #red(2)\n",
    "                            elif(min_dis[1]==3):\n",
    "                                          l3.append(min_dis) #green(3)\n",
    "                           \n",
    "              mean1_x=mean2_x=mean3_x=0\n",
    "              mean1_y=mean2_y=mean3_y=0\n",
    "              #calculating the means of the points belongs to same cluster form by the centroid\n",
    "              for i in l1: #i is in the form of tuple\n",
    "                            mean1_x=mean1_x+i[2][0]\n",
    "                            mean1_y=mean1_y+i[2][1] \n",
    "              mean1_x=mean1_x/len(l1)\n",
    "              mean1_y=mean1_y/len(l1)\n",
    "              for i in l2: #i is in the form of tuple\n",
    "                            mean2_x=mean2_x+i[2][0]\n",
    "                            mean2_y=mean2_y+i[2][1]\n",
    "              mean2_x=mean2_x/len(l2)\n",
    "              mean2_y=mean2_y/len(l2)\n",
    "              for i in l3: #i is in the form of tuple\n",
    "                            mean3_x=mean3_x+i[2][0]\n",
    "                            mean3_y=mean3_y+i[2][1]\n",
    "              mean3_x=mean3_x/len(l3)\n",
    "              mean3_y=mean3_y/len(l3)\n",
    "              \n",
    "              mean=[]\n",
    "              mean.append([mean1_x,mean1_y])\n",
    "              mean.append([mean2_x,mean2_y])\n",
    "              mean.append([mean3_x,mean3_y])\n",
    "              \n",
    "              Centroids=make_centroid_dic(mean) #here, we get our new centroids\n",
    "              \n",
    "              return Centroids,l1,l2,l3"
   ]
  },
  {
   "cell_type": "code",
   "execution_count": 4,
   "metadata": {},
   "outputs": [],
   "source": [
    "###############main#####################\n",
    "\n",
    "#initializing the value of K\n",
    "K=3\n",
    "\n",
    "#select random observation as centroids\n",
    "X=[]\n",
    "for i in range(len(x1)):\n",
    "         X.append([x1[i],x2[i]])\n",
    "\n",
    "#select random Centroids. Initially, the centroids are chosen randomly from the dataset.\n",
    "rd.seed(42)\n",
    "#rd.seed fixes the randomly taken value\n",
    "c = []\n",
    "for _ in range(K):\n",
    "         c.append(rd.choice(X))\n",
    "\n",
    "d=[]\n",
    "for i in range(K):\n",
    "         d.append(i+1)\n",
    "Centroids={}\n",
    "for key in d: \n",
    "    for value in c: \n",
    "        Centroids[key] = value    #the dictionary will be in the form {1:[4856,128],2:...upto the value of K}\n",
    "        c.remove(value)    \n",
    "        break"
   ]
  },
  {
   "cell_type": "code",
   "execution_count": 5,
   "metadata": {},
   "outputs": [
    {
     "data": {
      "image/png": "[encoded data removed]",
      "text/plain": [
       "<Figure size 432x288 with 1 Axes>"
      ]
     },
     "metadata": {
      "needs_background": "light"
     },
     "output_type": "display_data"
    }
   ],
   "source": [
    "#plotting the unlabelled datapoints\n",
    "plt.scatter(x1,x2,c='black')\n",
    "colmap = {1:'r',2:'b',3:'g'} # taking diff. colors in dictionary so as to assign it to diff. centroids\n",
    "\n",
    "for i in Centroids.keys():\n",
    "         plt.scatter(*Centroids[i],color=colmap[i])\n",
    "plt.xlabel('x')\n",
    "plt.ylabel('y')\n",
    "plt.title('k-means clustering(unlabelled data)')\n",
    "plt.show()"
   ]
  },
  {
   "cell_type": "code",
   "execution_count": 6,
   "metadata": {},
   "outputs": [
    {
     "data": {
      "image/png": "[encoded data removed]",
      "text/plain": [
       "<Figure size 432x288 with 1 Axes>"
      ]
     },
     "metadata": {
      "needs_background": "light"
     },
     "output_type": "display_data"
    }
   ],
   "source": [
    "# Plotting the labelled datapoints i.e., the formed clusters\n",
    "for _ in range(5):\n",
    "              Centroids,l1,l2,l3=n_cen(Centroids,X)\n",
    "\n",
    "for r in l1:\n",
    "              plt.scatter(r[-1][0],r[-1][1],c='red')\n",
    "for b in l2:\n",
    "              plt.scatter(b[-1][0],b[-1][1],c='blue')\n",
    "for g in l3:\n",
    "              plt.scatter(g[-1][0],g[-1][1],c='green')\n",
    "plt.xlabel('x')\n",
    "plt.ylabel('y')\n",
    "plt.title('k-means clustering(labelled data)')\n",
    "plt.show()"
   ]
  },
  {
   "cell_type": "code",
   "execution_count": null,
   "metadata": {},
   "outputs": [],
   "source": []
  },
  {
   "cell_type": "code",
   "execution_count": null,
   "metadata": {},
   "outputs": [],
   "source": []
  }
 ],
 "metadata": {
  "kernelspec": {
   "display_name": "Python 3",
   "language": "python",
   "name": "python3"
  },
  "language_info": {
   "codemirror_mode": {
    "name": "ipython",
    "version": 3
   },
   "file_extension": ".py",
   "mimetype": "text/x-python",
   "name": "python",
   "nbconvert_exporter": "python",
   "pygments_lexer": "ipython3",
   "version": "3.7.4"
  }
 },
 "nbformat": 4,
 "nbformat_minor": 2
}
