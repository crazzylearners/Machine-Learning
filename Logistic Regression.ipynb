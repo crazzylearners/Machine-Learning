{
 "cells": [
  {
   "cell_type": "markdown",
   "metadata": {},
   "source": [
    "# Logistic Regression"
   ]
  },
  {
   "cell_type": "code",
   "execution_count": 1,
   "metadata": {},
   "outputs": [],
   "source": [
    "#LOGISTIC REGRESSION\n",
    "import numpy as np\n",
    "import math"
   ]
  },
  {
   "cell_type": "code",
   "execution_count": 2,
   "metadata": {},
   "outputs": [],
   "source": [
    "weights =0\n",
    "bias =0\n",
    "lr=0.001\n",
    "n_iters=1000\n",
    "\n",
    "\n",
    "def fit(X,y):\n",
    "        n_samples, n_features = X.shape\n",
    "        print(X.shape)\n",
    "        weights=np.zeros((n_features,1))\n",
    "        bias=0\n",
    "        \n",
    "        #gradient descent\n",
    "        for _ in range(n_iters):\n",
    "         \n",
    "            #approximate y with linear combination of weights and x, plus bias\n",
    "            linear_model = np.dot(X,weights) + bias\n",
    "            \n",
    "            #apply sigmoid function\n",
    "            y_predicted = _sigmoid(linear_model)\n",
    "            \n",
    "            #cost function\n",
    "            #co=cost_func(n_samples,y_predicted,y)\n",
    "            \n",
    "            #compute gradients            \n",
    "            dw = (1 / n_samples) * np.sum(np.dot(X.T,(y_predicted - y)))\n",
    "            db = (1 / n_samples) * np.sum(y_predicted-y)\n",
    "            \n",
    "            #update parameters\n",
    "            weights -= lr * dw\n",
    "            bias -=lr * db\n",
    "        return y_predicted\n",
    "\n",
    "\n",
    "def predict( X):\n",
    "        y_predicted_cls=[]\n",
    "        weights=np.zeros((30,1))\n",
    "        linear_model = np.dot(X,weights) + bias\n",
    "        y_predicted = _sigmoid(linear_model)\n",
    "        for i in y_predicted:\n",
    "                 if i<0.5:\n",
    "                          y_predicted_cls.append(0)\n",
    "                 else:\n",
    "                          y_predicted_cls.append(1)\n",
    "        return np.array(y_predicted_cls)\n",
    "\n",
    "def _sigmoid(x):\n",
    "         return .5 * (1 + np.tanh(.5 * x))\n",
    "def accuracy(y_true,y_pred):\n",
    "         return np.sum(y_true==y_pred)/len(y_true)\n",
    "         #print(np.sum(y_true==y_pred))"
   ]
  },
  {
   "cell_type": "code",
   "execution_count": 3,
   "metadata": {},
   "outputs": [],
   "source": [
    "########_MAIN_##########\n",
    "from sklearn.model_selection import train_test_split\n",
    "from sklearn.datasets import load_breast_cancer\n",
    "data=load_breast_cancer()\n",
    "\n",
    "X,y=data.data,data.target\n",
    "#X=X.astype(int)\n",
    "#X = np.asarray([decimal.Decimal(el) for el in X], dtype=float128)\n",
    "xtrain,xtest,ytrain,ytest=train_test_split(X,y,test_size=0.2,random_state=0)"
   ]
  },
  {
   "cell_type": "code",
   "execution_count": 5,
   "metadata": {},
   "outputs": [
    {
     "name": "stdout",
     "output_type": "stream",
     "text": [
      "(455, 30)\n",
      "LOGISTIC_REGRESSION accuracy : 0.5877192982456141\n",
      "predict : [1]\n",
      "1\n"
     ]
    }
   ],
   "source": [
    "regressor = fit(xtrain,ytrain)\n",
    "pred=predict(xtest)\n",
    "#print(\"fit\",regression)\n",
    "print(\"LOGISTIC_REGRESSION accuracy :\",accuracy(ytest,pred))\n",
    "print('predict :',predict(xtest[4]))\n",
    "print(ytest[4])"
   ]
  },
  {
   "cell_type": "code",
   "execution_count": null,
   "metadata": {},
   "outputs": [],
   "source": []
  }
 ],
 "metadata": {
  "kernelspec": {
   "display_name": "Python 3",
   "language": "python",
   "name": "python3"
  },
  "language_info": {
   "codemirror_mode": {
    "name": "ipython",
    "version": 3
   },
   "file_extension": ".py",
   "mimetype": "text/x-python",
   "name": "python",
   "nbconvert_exporter": "python",
   "pygments_lexer": "ipython3",
   "version": "3.7.4"
  }
 },
 "nbformat": 4,
 "nbformat_minor": 2
}
