{
 "cells": [
  {
   "cell_type": "markdown",
   "metadata": {},
   "source": [
    "<font color=oceanblue size=6> <b> Multiple Linear Regression (from Scratch) </b> </font>"
   ]
  },
  {
   "cell_type": "code",
   "execution_count": 1,
   "metadata": {},
   "outputs": [],
   "source": [
    "#importing libraries\n",
    "import matplotlib.pyplot as plt\n",
    "import pandas as pd\n",
    "import numpy as np\n",
    "from sklearn.model_selection import train_test_split\n",
    "from sklearn.linear_model import LinearRegression"
   ]
  },
  {
   "cell_type": "code",
   "execution_count": 2,
   "metadata": {},
   "outputs": [],
   "source": [
    "#data\n",
    "data=pd.read_csv('housing_data.csv')\n",
    "\n",
    "#fetching data\n",
    "#here x is an array (which have 0-12 columns) \n",
    "x=data.iloc[:,:13].values\n",
    "y=data.iloc[:,13].values\n",
    "n,m=x.shape   # for calculating (row,column)"
   ]
  },
  {
   "cell_type": "code",
   "execution_count": 3,
   "metadata": {},
   "outputs": [],
   "source": [
    "#now, in our hypothesis function we know that there is theta_0 (which doesn't carry any x) hence we consider x=1 therefore \n",
    "x1=np.ones((n,1))    # make an array of n rows and single column\n",
    "x=np.hstack((x1,x))  # in the data of x at !st column it will add x1 (array of 1 e created)\n",
    "\n",
    "#split train test data\n",
    "x_train,x_test,y_train,y_test=train_test_split(x,y,test_size=0.3,random_state=0)"
   ]
  },
  {
   "cell_type": "code",
   "execution_count": 4,
   "metadata": {},
   "outputs": [
    {
     "name": "stdout",
     "output_type": "stream",
     "text": [
      "Residual sum of squares: 27.20\n"
     ]
    }
   ],
   "source": [
    "#TRANSPOSE\n",
    "#traspose so as to perform following task...\n",
    "x_trans=np.transpose(x_train)\n",
    "\n",
    "#we in 12th we read a formula-- v = [x(transpose).x]^(-1).[x(traspose).y]  --to be used\n",
    "#y(predict) = x_test.v\n",
    "#here we will preform dot product of matrix as well\n",
    "\n",
    "#multiplying matrix\n",
    "prod=np.dot(x_trans,x_train)\n",
    "inv=np.linalg.inv(prod)    # inverse\n",
    "prod2=np.dot(inv,x_trans)\n",
    "result=np.dot(prod2,y_train)\n",
    "\n",
    "y_pred=np.dot(x_test,result)\n",
    "\n",
    "print(\"Residual sum of squares: %.2f\" % np.mean((y_pred - y_test) ** 2))"
   ]
  },
  {
   "cell_type": "code",
   "execution_count": 5,
   "metadata": {},
   "outputs": [
    {
     "name": "stdout",
     "output_type": "stream",
     "text": [
      "Root Mean Squared Error:  2.858240564341733\n"
     ]
    }
   ],
   "source": [
    "# RMSE-> Root Mean Squared Error\n",
    "sq=0\n",
    "for i in range(152):\n",
    "         sq +=(y_pred[i]-y_test[i])**2\n",
    "rmse=np.sqrt(sq/n)\n",
    "print(\"Root Mean Squared Error: \",rmse)"
   ]
  },
  {
   "cell_type": "code",
   "execution_count": null,
   "metadata": {},
   "outputs": [],
   "source": []
  }
 ],
 "metadata": {
  "kernelspec": {
   "display_name": "Python 3",
   "language": "python",
   "name": "python3"
  },
  "language_info": {
   "codemirror_mode": {
    "name": "ipython",
    "version": 3
   },
   "file_extension": ".py",
   "mimetype": "text/x-python",
   "name": "python",
   "nbconvert_exporter": "python",
   "pygments_lexer": "ipython3",
   "version": "3.7.4"
  }
 },
 "nbformat": 4,
 "nbformat_minor": 2
}
