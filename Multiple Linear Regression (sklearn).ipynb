{
 "cells": [
  {
   "cell_type": "markdown",
   "metadata": {},
   "source": [
    "<font color=teal size=6> <b> Multiple Linear Regression (from sklearn) </b> </font>"
   ]
  },
  {
   "cell_type": "code",
   "execution_count": 2,
   "metadata": {},
   "outputs": [],
   "source": [
    "#importing libraries\n",
    "import matplotlib.pyplot as plt\n",
    "import pandas as pd\n",
    "import numpy as np\n",
    "from sklearn.model_selection import train_test_split\n",
    "from sklearn.linear_model import LinearRegression\n",
    "import statsmodels.api as sm#for backward elimination"
   ]
  },
  {
   "cell_type": "code",
   "execution_count": 3,
   "metadata": {},
   "outputs": [],
   "source": [
    "#data\n",
    "data=pd.read_csv('housing_data.csv')\n",
    "\n",
    "# Fetching data...\n",
    "x=data.iloc[:,:13].values\n",
    "y=data.iloc[:,13].values\n",
    "\n",
    "#spliting train test data\n",
    "#considering 30% data in test size\n",
    "x_train,x_test,y_train,y_test=train_test_split(x,y,test_size=0.3,random_state=0)"
   ]
  },
  {
   "cell_type": "code",
   "execution_count": 4,
   "metadata": {},
   "outputs": [
    {
     "name": "stdout",
     "output_type": "stream",
     "text": [
      "0.6733825506400204\n"
     ]
    }
   ],
   "source": [
    "# Linear regression\n",
    "# Performing mathematics metrix algorithm here by using fit function\n",
    "# Here model is training hence training data is selected \n",
    "lin=LinearRegression()\n",
    "lin.fit(x_train,y_train)\n",
    "\n",
    "# Prediction\n",
    "y_predict=lin.predict(x_test)\n",
    "\n",
    "# tell the best form of error i.e. r squared error\n",
    "print(lin.score(x_test,y_test))\n",
    "\n",
    "\n"
   ]
  },
  {
   "cell_type": "markdown",
   "metadata": {},
   "source": [
    "# Not needed"
   ]
  },
  {
   "cell_type": "code",
   "execution_count": 1,
   "metadata": {
    "collapsed": true
   },
   "outputs": [
    {
     "data": {
      "text/plain": [
       "\"\\n#extracting 1st column\\nx = x[:,1:]#shape(506,12)\\n# But Let's understand what is it\\n# Here we try to remove those columns which are creating hindrence towards accuracy \\n# y=b0 + b1(x1) + b2(x2)... hence x0=1 always\\nx = np.append(arr=np.ones((506,1)).astype(int),values=x,axis=1)\\nx_opt=x[:,[0,1,2,3,4,5,6,7,8,9,10,11]]\\nreg_ols=sm.OLS(endog=y,exog=x_opt).fit()\\nprint(reg_ols.summary())\\n\""
      ]
     },
     "execution_count": 1,
     "metadata": {},
     "output_type": "execute_result"
    }
   ],
   "source": [
    "#extracting 1st column\n",
    "x = x[:,1:]#shape(506,12)\n",
    "# But Let's understand what is it\n",
    "# Here we try to remove those columns which are creating hindrence towards accuracy \n",
    "# y=b0 + b1(x1) + b2(x2)... hence x0=1 always\n",
    "x = np.append(arr=np.ones((506,1)).astype(int),values=x,axis=1)\n",
    "x_opt=x[:,[0,1,2,3,4,5,6,7,8,9,10,11]]\n",
    "reg_ols=sm.OLS(endog=y,exog=x_opt).fit()\n",
    "print(reg_ols.summary())"
   ]
  },
  {
   "cell_type": "code",
   "execution_count": null,
   "metadata": {},
   "outputs": [],
   "source": []
  }
 ],
 "metadata": {
  "kernelspec": {
   "display_name": "Python 3",
   "language": "python",
   "name": "python3"
  },
  "language_info": {
   "codemirror_mode": {
    "name": "ipython",
    "version": 3
   },
   "file_extension": ".py",
   "mimetype": "text/x-python",
   "name": "python",
   "nbconvert_exporter": "python",
   "pygments_lexer": "ipython3",
   "version": "3.7.4"
  }
 },
 "nbformat": 4,
 "nbformat_minor": 2
}
