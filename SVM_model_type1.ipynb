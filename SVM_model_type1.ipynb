{
 "cells": [
  {
   "cell_type": "markdown",
   "metadata": {},
   "source": [
    "# Support Vector Machine"
   ]
  },
  {
   "cell_type": "code",
   "execution_count": 1,
   "metadata": {},
   "outputs": [
    {
     "data": {
      "image/png": "[encoded data removed]",
      "text/plain": [
       "<Figure size 432x288 with 1 Axes>"
      ]
     },
     "metadata": {
      "needs_background": "light"
     },
     "output_type": "display_data"
    }
   ],
   "source": [
    "import pandas as pd\n",
    "import numpy as np\n",
    "import matplotlib.pyplot as plt\n",
    "%matplotlib inline\n",
    "\n",
    "data = pd.read_csv('cell_samples.csv')\n",
    "# data.columns gives the name of the columns\n",
    "# data[column].value_counts() - no. of terms with their count\n",
    "\n",
    "#Separating benign data\n",
    "b_data = data[data['Class']==2][:200]\n",
    "m_data = data[data['Class']==4][:200]\n",
    "\n",
    "#this type of plotting is used when two different graphs are to be plotted in one graph\n",
    "axes = b_data.plot(kind='scatter',x='Clump',y='UnifSize',color='blue',label='Benign')\n",
    "graph = m_data.plot(kind='scatter',x='Clump',y='UnifSize',color='red',label='Malignant',ax=axes)\n",
    "plt.show()\n",
    "\n",
    "#DATA CLEANING\n",
    "#data.dtypes - It explains data types of our data to make all numeric int type only to work with\n",
    "#Here datatype of BareNuc has object datatype so we need to convert it to numeric.\n",
    "data = data[pd.to_numeric(data.BareNuc,errors='coerce').notnull()]\n",
    "data.BareNuc = data.BareNuc.astype('int')\n",
    "#Now all data types are set to numeric only\n",
    "#to be more clear visit NORMALIZATION on our site."
   ]
  },
  {
   "cell_type": "code",
   "execution_count": 2,
   "metadata": {},
   "outputs": [],
   "source": [
    "#take necessary features to train\n",
    "features = data[['Clump', 'UnifSize', 'UnifShape', 'MargAdh', 'SingEpiSize',\n",
    "       'BareNuc', 'BlandChrom', 'NormNucl', 'Mit']]\n",
    "\n",
    "#Now can easily work on dependent and independent arrays\n",
    "X = np.asarray(features)\n",
    "y = np.asarray(data['Class'])"
   ]
  },
  {
   "cell_type": "code",
   "execution_count": 3,
   "metadata": {},
   "outputs": [],
   "source": [
    "from sklearn.model_selection import train_test_split\n",
    "Xtrain,Xtest,ytrain,ytest = train_test_split(X,y,test_size=0.2,random_state=4)"
   ]
  },
  {
   "cell_type": "code",
   "execution_count": 4,
   "metadata": {},
   "outputs": [],
   "source": [
    "# Standarize features\n",
    "#It transform the data into a balance at nearer to 0\n",
    "from sklearn.preprocessing import StandardScaler\n",
    "scaler = StandardScaler()\n",
    "X_std = scaler.fit_transform(Xtrain)"
   ]
  },
  {
   "cell_type": "code",
   "execution_count": 5,
   "metadata": {},
   "outputs": [],
   "source": [
    "#Prepare Model\n",
    "from sklearn import svm\n",
    "classifier = svm.SVC(kernel='linear',gamma='auto',C=2)\n",
    "#where gamma is kernel coefficient for ‘rbf’, ‘poly’ and ‘sigmoid’ which is set at auto, uses 1 / n_features\n",
    "classifier.fit(Xtrain,ytrain)\n",
    "y_pred = classifier.predict(Xtest)"
   ]
  },
  {
   "cell_type": "code",
   "execution_count": 6,
   "metadata": {},
   "outputs": [
    {
     "name": "stdout",
     "output_type": "stream",
     "text": [
      "              precision    recall  f1-score   support\n",
      "\n",
      "           2       1.00      0.94      0.97        90\n",
      "           4       0.90      1.00      0.95        47\n",
      "\n",
      "    accuracy                           0.96       137\n",
      "   macro avg       0.95      0.97      0.96       137\n",
      "weighted avg       0.97      0.96      0.96       137\n",
      "\n"
     ]
    }
   ],
   "source": [
    "#result\n",
    "from sklearn.metrics import classification_report\n",
    "print(classification_report(ytest,y_pred))"
   ]
  },
  {
   "cell_type": "code",
   "execution_count": null,
   "metadata": {},
   "outputs": [],
   "source": []
  }
 ],
 "metadata": {
  "kernelspec": {
   "display_name": "Python 3",
   "language": "python",
   "name": "python3"
  },
  "language_info": {
   "codemirror_mode": {
    "name": "ipython",
    "version": 3
   },
   "file_extension": ".py",
   "mimetype": "text/x-python",
   "name": "python",
   "nbconvert_exporter": "python",
   "pygments_lexer": "ipython3",
   "version": "3.7.4"
  }
 },
 "nbformat": 4,
 "nbformat_minor": 2
}
