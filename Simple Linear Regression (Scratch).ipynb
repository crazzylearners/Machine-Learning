{
 "cells": [
  {
   "cell_type": "markdown",
   "metadata": {},
   "source": [
    "# Simple Linear Regression (from Scratch)"
   ]
  },
  {
   "cell_type": "code",
   "execution_count": 1,
   "metadata": {},
   "outputs": [],
   "source": [
    "#importing Libraries\n",
    "import numpy as np\n",
    "import pandas as pd\n",
    "import matplotlib.pyplot as plt"
   ]
  },
  {
   "cell_type": "code",
   "execution_count": 2,
   "metadata": {},
   "outputs": [],
   "source": [
    "# use name of your file which should be in same folder\n",
    "data = pd.read_csv('x_y_data.csv')\n",
    "\n",
    "#here we can perform slicing in data\n",
    "#as to take all rows and 0th column\n",
    "#values take the take the values from particular index location(iloc)\n",
    "x = data.iloc[:,0].values\n",
    "y = data.iloc[:,1].values # y(actual)\n",
    "\n",
    "#with this iloc funtion we are getting an arrays in x and y\n",
    "#calculate the number of entities\n",
    "n = len(x)"
   ]
  },
  {
   "cell_type": "code",
   "execution_count": 3,
   "metadata": {},
   "outputs": [],
   "source": [
    "#calculating mean using numpy function\n",
    "x_mean = np.mean(x)\n",
    "y_mean = np.mean(y)\n",
    "\n",
    "#since array is used we can perform such task\n",
    "numerator = np.sum((x-x_mean)*(y-y_mean))\n",
    "denominator = np.sum((x-x_mean)*(x-x_mean))\n",
    "\n",
    "theta_1 = numerator/denominator\n",
    "theta_0 = y_mean-(theta_1*x_mean)\n",
    "\n",
    "y_predicted=[]\n",
    "for i in range(len(x)):\n",
    "         yp = (theta_1 * x[i])+theta_0\n",
    "         y_predicted.append(yp)"
   ]
  },
  {
   "cell_type": "code",
   "execution_count": 4,
   "metadata": {},
   "outputs": [
    {
     "name": "stdout",
     "output_type": "stream",
     "text": [
      "MSE is : 8.953942751950358\n",
      "Actual_value _of_y_is : 3.2522\n",
      "Predicted_value_of_y_is : 2.91727635356166\n"
     ]
    }
   ],
   "source": [
    "#after loop we will get list of y_predicted\n",
    "#now carry on with array\n",
    "y_predicted = np.array(y_predicted)\n",
    "\n",
    "#MSE\n",
    "MSE=(1/n)*(np.sum((y-y_predicted)**2))\n",
    "print(\"MSE is :\",MSE)\n",
    "\n",
    "#let's check how much difference is there in particular value\n",
    "print('Actual_value _of_y_is :',y[10])\n",
    "print('Predicted_value_of_y_is :',y_predicted[10])"
   ]
  },
  {
   "cell_type": "code",
   "execution_count": 5,
   "metadata": {},
   "outputs": [
    {
     "data": {
      "image/png": "[encoded data removed]",
      "text/plain": [
       "<Figure size 432x288 with 1 Axes>"
      ]
     },
     "metadata": {
      "needs_background": "light"
     },
     "output_type": "display_data"
    }
   ],
   "source": [
    "#PLOTTING\n",
    "plt.scatter(x,y,color='red')\n",
    "plt.plot(x,y_predicted)\n",
    "plt.title('LINEAR_REGRESSION')\n",
    "plt.xlabel('independent_variable_x')\n",
    "plt.ylabel('dependent_variable_y')\n",
    "plt.show()"
   ]
  },
  {
   "cell_type": "code",
   "execution_count": null,
   "metadata": {},
   "outputs": [],
   "source": []
  }
 ],
 "metadata": {
  "kernelspec": {
   "display_name": "Python 3",
   "language": "python",
   "name": "python3"
  },
  "language_info": {
   "codemirror_mode": {
    "name": "ipython",
    "version": 3
   },
   "file_extension": ".py",
   "mimetype": "text/x-python",
   "name": "python",
   "nbconvert_exporter": "python",
   "pygments_lexer": "ipython3",
   "version": "3.7.4"
  }
 },
 "nbformat": 4,
 "nbformat_minor": 2
}
